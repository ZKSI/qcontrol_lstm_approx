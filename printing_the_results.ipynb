{
 "cells": [
  {
   "cell_type": "code",
   "execution_count": 145,
   "metadata": {},
   "outputs": [
    {
     "name": "stdout",
     "output_type": "stream",
     "text": [
      "nb_epochs 60000\n",
      "learning_rate 0.0001\n",
      "size_of_lrs [200, 300, 400]\n",
      "batch_size 10\n",
      "gamma=0.2\n",
      "\n",
      "alpha=0.0\n",
      "\n",
      "The autoreload extension is already loaded. To reload it, use:\n",
      "  %reload_ext autoreload\n"
     ]
    }
   ],
   "source": [
    "import numpy as np\n",
    "import matplotlib.pyplot as plt\n",
    "import scipy.linalg\n",
    "from scipy import stats\n",
    "from itertools import product as prod\n",
    "%load_ext autoreload\n",
    "%autoreload 2\n",
    "\n",
    "from constants_of_experiments import *\n",
    "from noise_models_and_integration import *"
   ]
  },
  {
   "cell_type": "code",
   "execution_count": 68,
   "metadata": {
    "collapsed": true
   },
   "outputs": [],
   "source": [
    "dictionary = np.load(\"results/eff_fid_lstm/dim_2x1/PLG_50_100tys/statistic_aSxbSy_id_spinChain_dim_2x1.npz\")[\"arr_0\"][()]\n",
    "dictionary['gamma0.8_alpha0.0'] = dictionary['gamma0.8_alpha0.']\n",
    "dictionary['gamma0.6_alpha0.0'] = dictionary['gamma0.6_alpha0.']\n",
    "del dictionary['gamma0.8_alpha0.']\n",
    "del dictionary['gamma0.6_alpha0.']"
   ]
  },
  {
   "cell_type": "code",
   "execution_count": 69,
   "metadata": {},
   "outputs": [
    {
     "name": "stdout",
     "output_type": "stream",
     "text": [
      "{'gamma0.8_alpha0.0': [0.96, 0.97, 0.96], 'gamma0.6_alpha0.0': [0.94, 0.96, 0.94], 'gamma0.6_alpha0.2': [0.98, 0.98, 0.96], 'gamma0.8_alpha0.5': [0.9, 0.99, 0.99], 'gamma0.6_alpha0.5': [0.99, 0.99, 0.99], 'gamma0.6_alpha0.8': [0.99, 0.98, 0.98], 'gamma0.8_alpha0.8': [0.99, 0.99, 0.99], 'gamma0.8_alpha0.2': [0.98, 0.98, 0.98]}\n",
      "gamma  0.6\n",
      "alpha  0.0\n",
      "0.9619728\n",
      "gamma  0.6\n",
      "alpha  0.2\n",
      "0.96604335\n",
      "gamma  0.6\n",
      "alpha  0.5\n",
      "0.9885367\n",
      "gamma  0.6\n",
      "alpha  0.8\n",
      "0.9888214\n",
      "gamma  0.8\n",
      "alpha  0.0\n",
      "0.9717829\n",
      "gamma  0.8\n",
      "alpha  0.2\n",
      "0.97772264\n",
      "gamma  0.8\n",
      "alpha  0.5\n",
      "0.99072057\n",
      "gamma  0.8\n",
      "alpha  0.8\n",
      "0.9915163\n"
     ]
    }
   ],
   "source": [
    "\n",
    "print(dictionary)\n",
    "iterat = 0\n",
    "for gamma in [0.6,0.8]:\n",
    "    for alpha in [0.,0.2,0.5,0.8]:\n",
    "        print(\"gamma \",gamma)\n",
    "        print(\"alpha \", alpha)\n",
    "        data0 = np.load(\"results/eff_fid_lstm/dim_{}/PLG_50_100tys/statistic_{}_gam_{}_alpha_{}_{}.npz\".format(model_dim,\n",
    "                                                                                           noise_name,\n",
    "                                                                                           gamma,\n",
    "                                                                                           alpha, int(iterat)))[\"arr_0\"][()]\n",
    "        data100 = np.load(\"results/eff_fid_lstm/dim_{}/PLG_50_100tys/statistic_{}_gam_{}_alpha_{}_{}.npz\".format(model_dim,\n",
    "                                                                                           noise_name,\n",
    "                                                                                           gamma,\n",
    "                                                                                           alpha, int(iterat+100)))[\"arr_0\"][()]\n",
    "        data200 = np.load(\"results/eff_fid_lstm/dim_{}/PLG_50_100tys/statistic_{}_gam_{}_alpha_{}_{}.npz\".format(model_dim,\n",
    "                                                                                           noise_name,\n",
    "                                                                                           gamma,\n",
    "                                                                                           alpha, iterat+200))[\"arr_0\"][()]\n",
    "        dictionary[\"gamma{}_alpha{}\".format(gamma,alpha)].append(data0[0][0])\n",
    "        dictionary[\"gamma{}_alpha{}\".format(gamma,alpha)].append(data100[0][0])\n",
    "        dictionary[\"gamma{}_alpha{}\".format(gamma,alpha)].append(data200[0][0])\n",
    "        \n",
    "        iterat+=1\n",
    "        print(data0[0][0])"
   ]
  },
  {
   "cell_type": "code",
   "execution_count": 75,
   "metadata": {},
   "outputs": [
    {
     "name": "stdout",
     "output_type": "stream",
     "text": [
      "gamma  0.6\n",
      "alpha  0.0\n",
      "0.9509780351320902\n",
      "gamma  0.6\n",
      "alpha  0.2\n",
      "0.9734388065338134\n",
      "gamma  0.6\n",
      "alpha  0.5\n",
      "0.9892206839720408\n",
      "gamma  0.6\n",
      "alpha  0.8\n",
      "0.9865614394346873\n",
      "gamma  0.8\n",
      "alpha  0.0\n",
      "0.9693977161248525\n",
      "gamma  0.8\n",
      "alpha  0.2\n",
      "0.9709230665365854\n",
      "gamma  0.8\n",
      "alpha  0.5\n",
      "0.9752432413895925\n",
      "gamma  0.8\n",
      "alpha  0.8\n",
      "0.9909477384885151\n"
     ]
    }
   ],
   "source": [
    "for gamma in [0.6,0.8]:\n",
    "    for alpha in [0.,0.2,0.5,0.8]:\n",
    "        print(\"gamma \",gamma)\n",
    "        print(\"alpha \", alpha)\n",
    "        print(np.mean(dictionary[\"gamma{}_alpha{}\".format(gamma,alpha)]))"
   ]
  },
  {
   "cell_type": "code",
   "execution_count": 44,
   "metadata": {},
   "outputs": [
    {
     "name": "stdout",
     "output_type": "stream",
     "text": [
      "0.6\n",
      "0.0\n",
      "1.0\n",
      "aSxbSy_id_spinChain_dim_2x1\n",
      "0.97886056\n",
      "0.6\n",
      "0.1\n",
      "0.8\n",
      "aSxbSy_id_spinChain_dim_2x1\n",
      "0.97887844\n",
      "0.6\n",
      "0.1\n",
      "0.6\n",
      "aSxbSy_id_spinChain_dim_2x1\n",
      "0.9812311\n",
      "0.6\n",
      "0.2\n",
      "0.6\n",
      "aSxbSy_id_spinChain_dim_2x1\n",
      "0.9557622\n",
      "0.6\n",
      "0.3\n",
      "0.6\n",
      "aSxbSy_id_spinChain_dim_2x1\n",
      "0.97750616\n",
      "0.8\n",
      "0.0\n",
      "1.0\n",
      "aSxbSy_id_spinChain_dim_2x1\n",
      "0.90486413\n",
      "0.8\n",
      "0.1\n",
      "0.8\n",
      "aSxbSy_id_spinChain_dim_2x1\n",
      "0.9841345\n",
      "0.8\n",
      "0.1\n",
      "0.6\n",
      "aSxbSy_id_spinChain_dim_2x1\n",
      "0.97732115\n",
      "0.8\n",
      "0.2\n",
      "0.6\n",
      "aSxbSy_id_spinChain_dim_2x1\n",
      "0.97354627\n",
      "0.8\n",
      "0.3\n",
      "0.6\n",
      "aSxbSy_id_spinChain_dim_2x1\n",
      "0.97896427\n"
     ]
    }
   ],
   "source": [
    "params_list = [(0.6,0.,1.),(0.6,0.1,0.8),(0.6,0.1,0.6),(0.6,0.2,0.6),(0.6,0.3,0.6),\n",
    "                   (0.8,0.,1.),(0.8,0.1,0.8),(0.8,0.1,0.6),(0.8,0.2,0.6),(0.8,0.3,0.6)]\n",
    "for params in params_list:\n",
    "    gamma,alpha,beta = params\n",
    "    print(gamma)\n",
    "    print(alpha)\n",
    "    print(beta)\n",
    "    print(noise_name)\n",
    "#         data = np.load(\"results/eff_fid_lstm/dim_{}/statistic_{}_gam_{}_alpha_{}.npz\".format(model_dim,\n",
    "#                                                                                              noise_name,\n",
    "#                                                                                              gamma,\n",
    "#                                                                                              alpha))['arr_0']\n",
    "#     data = np.load(\"results/eff_fid_lstm/dim_{}/PLG_tr8k_ts4k_60tys_iter/statistic_{}_gam_{}_alpha_{}_beta_{}.npz\".format(model_dim,\n",
    "#                                                                                              noise_name,\n",
    "#                                                                                              gamma,\n",
    "#                                                                                              alpha,beta))['arr_0']\n",
    "    data = np.load(\n",
    "        \"results/eff_fid_lstm/dim_{}/PLG_final_batch_10_50tys_8k_to_4k/statistic_spinChainDrift_spinChain_dim_2x1_gam_{}_alpha_{}_beta_{}.npz\".format(model_dim,\n",
    "                                                                                         gamma,\n",
    "                                                                                         alpha,\n",
    "                                                                                         beta))['arr_0']\n",
    "    data2 = np.load(\n",
    "        \"results/eff_fid_lstm/dim_{}/PLG_final_batch_10_50tys_8k_to_4k/statistic2_spinChainDrift_spinChain_dim_2x1_gam_{}_alpha_{}_beta_{}.npz\".format(model_dim,\n",
    "                                                                                         gamma,\n",
    "                                                                                         alpha,\n",
    "                                                                                         beta))['arr_0']\n",
    "\n",
    "    data = data[()]\n",
    "    a = []\n",
    "    \n",
    "    for i in range(len(data)):\n",
    "#         print(list(data[i])[0])\n",
    "        a.append(list(data[i])[0])\n",
    "    data2 = data2[()]\n",
    "#     print(data2)\n",
    "    for i in range(len(data2)):\n",
    "#         print(list(data2[i])[0])\n",
    "        a.append(list(data2[i])[0])\n",
    "    print(np.mean(a))"
   ]
  },
  {
   "cell_type": "code",
   "execution_count": 40,
   "metadata": {},
   "outputs": [
    {
     "name": "stdout",
     "output_type": "stream",
     "text": [
      "0.6\n",
      "0.0\n",
      "aSxbSy_id_spinChain_dim_2x1\n",
      "0.929525\n",
      "0.95366395\n",
      "0.95160675\n",
      "0.93236196\n",
      "0.95506155\n",
      "0.96455604\n",
      "0.96338636\n",
      "0.9500231\n",
      "0.6\n",
      "0.2\n",
      "aSxbSy_id_spinChain_dim_2x1\n",
      "0.96862584\n",
      "0.9710865\n",
      "0.9670774\n",
      "0.96892995\n"
     ]
    }
   ],
   "source": [
    "params_list = [(0.6,0.),(0.6,0.2)]\n",
    "for params in params_list:\n",
    "    gamma,alpha = params\n",
    "    print(gamma)\n",
    "    print(alpha)\n",
    "    print(noise_name)\n",
    "    data = np.load(\"results/eff_fid_lstm/dim_{}/stretch_batch50_100tys/statistic_{}_gam_{}_alpha_{}.npz\".format(model_dim,\n",
    "                                                                                             noise_name,\n",
    "                                                                                             gamma,\n",
    "                                                                                             alpha))['arr_0']\n",
    "\n",
    "\n",
    "    data = data[()]\n",
    "    a = []\n",
    "#     print(data)\n",
    "    for i in range(len(data)):\n",
    "        print(list(data[i])[0])\n",
    "        a.append(list(data[i])[0])\n",
    "    print(np.mean,(a))"
   ]
  },
  {
   "cell_type": "code",
   "execution_count": 172,
   "metadata": {},
   "outputs": [
    {
     "data": {
      "text/plain": [
       "(32, 2, 2500)"
      ]
     },
     "execution_count": 172,
     "metadata": {},
     "output_type": "execute_result"
    }
   ],
   "source": [
    "# dane = np.load(\"results/NN_as_approx/dim_{}/stretch/{}_gam_{}_alpha_{}_epsilon_1e-{}.npz\".format(model_dim,\n",
    "#                                                                                         noise_name,\n",
    "#                                                                                         gamma,\n",
    "#                                                                                         alpha,\n",
    "#                                                                                         eps_order))[\"arr_0\"]\n",
    "\n",
    "# dane_rev = np.load(\"results/NN_as_approx/dim_{}/stretch/{}_reversed_gam_{}_alpha_{}_epsilon_1e-{}.npz\".format(model_dim,\n",
    "#                                                                                         noise_name,\n",
    "#                                                                                         gamma,\n",
    "#                                                                                         alpha,\n",
    "#                                                                                         eps_order))[\"arr_0\"]\n",
    "\n",
    "dane_rev = np.load(\"results/NN_as_approx/qutip/dim_{}/{}_gam_{}_alpha_{}_epsilon_1e-{}.npz\".format(model_dim,\n",
    "                                                                                        noise_name,\n",
    "                                                                                        gamma,\n",
    "                                                                                        alpha,\n",
    "                                                                                        eps_order))[\"arr_0\"]\n",
    "\n",
    "dane = np.load(\"results/NN_as_approx/qutip/stretch/{}_reversed_gam_{}_alpha_{}_epsilon_1e-{}.npz\".format(\n",
    "                                                                                        noise_name,\n",
    "                                                                                        gamma,\n",
    "                                                                                        alpha,\n",
    "                                                                                        eps_order))[\"arr_0\"]\n",
    "# print(dane)\n",
    "# print(dane_rev)\n",
    "dane = np.concatenate((dane,dane_rev),axis=2)\n",
    "np.shape(dane)"
   ]
  },
  {
   "cell_type": "code",
   "execution_count": 173,
   "metadata": {},
   "outputs": [
    {
     "name": "stdout",
     "output_type": "stream",
     "text": [
      "456\n"
     ]
    }
   ],
   "source": [
    "def sieve_data(data):   \n",
    "    tmpdata = []\n",
    "    for i in range(np.shape(data)[2]):\n",
    "        if not((data[:,:,i] <0).any()) and (data[:,:,i] >0).any():\n",
    "            tmpdata.append(data[:,:,i])\n",
    "\n",
    "    print(len(tmpdata))\n",
    "    data = np.zeros((np.shape(data)[0],np.shape(data)[1],len(tmpdata)))\n",
    "    for i in range(len(tmpdata)):\n",
    "        data[:,:,i] = tmpdata[i]\n",
    "    return data\n",
    "\n",
    "data = sieve_data(dane)"
   ]
  },
  {
   "cell_type": "code",
   "execution_count": 174,
   "metadata": {},
   "outputs": [
    {
     "data": {
      "text/plain": [
       "array([-1.15037126e-01, -3.15511528e-02,  3.42568188e-02, -2.80410067e-01,\n",
       "        3.79908734e-01, -2.21027141e-01, -8.07595270e-02, -2.42670588e-01,\n",
       "       -2.68328365e-01, -3.60111971e-01,  3.95289445e-03, -2.05431049e-01,\n",
       "       -1.28801888e-01, -2.04321686e-01, -2.05162373e-01, -4.63367687e-01,\n",
       "       -1.76647786e-01, -2.48655965e-01, -2.03828155e-01, -3.05482203e-01,\n",
       "       -4.88976863e-01, -1.72312436e-01, -2.18385147e-01,  4.75421276e-01,\n",
       "       -1.82389603e-01, -3.00313385e-01, -2.68756208e-01, -7.84793301e-02,\n",
       "       -2.19955908e-01, -1.70026452e-01, -2.88503770e-01, -1.27462619e-01,\n",
       "        3.65021122e-01,  2.14035112e-01,  2.23634124e-02, -5.10903242e-01,\n",
       "       -1.62645223e-01, -3.59152669e-01, -3.73340879e-02, -5.11113925e-01,\n",
       "       -3.74656475e-01, -1.37152916e-01, -2.28452541e-01, -8.86728634e-02,\n",
       "       -3.17148888e-01, -3.58037442e-01, -1.51475297e-01, -1.69708616e-01,\n",
       "       -1.14246364e+00, -3.98036757e-03, -8.45933092e-02,  6.04443478e-02,\n",
       "       -2.77797817e-01, -2.02346144e-01, -2.43186955e-01, -7.42057094e-01,\n",
       "       -7.44742457e-01, -2.28914978e-01, -2.71970135e-01, -2.82298367e-01,\n",
       "       -2.32308732e-01, -6.85779300e-01, -1.86279130e-01, -2.07721766e-01,\n",
       "       -1.55617854e-01, -1.40930790e-01, -2.02180562e-01, -1.72237822e-01,\n",
       "       -6.42929266e-01, -1.66663158e+00, -1.74206815e-01, -2.47248116e-01,\n",
       "        8.64619816e-01, -9.24824606e-01, -1.57856630e-01, -7.61380108e-01,\n",
       "       -1.85858678e-01, -3.30423400e-01,  4.90791122e-01, -4.68859991e-01,\n",
       "       -2.68438985e-01, -2.04425512e-01, -3.00646972e-01, -2.25291044e-01,\n",
       "       -3.29646715e-01, -1.65716674e-01, -1.71201100e-01, -9.52215971e-02,\n",
       "       -1.19997283e-04, -1.17746529e-01, -2.44486971e-01, -1.32276695e-01,\n",
       "       -2.23668860e-01,  4.77160117e-01, -2.81959627e-01, -2.73237619e-01,\n",
       "       -2.60700077e-01, -4.51796806e-01, -2.04996728e-01, -3.83310747e-01,\n",
       "       -2.14282504e-01, -2.96559101e-01, -2.23624434e-01, -2.05339102e-01,\n",
       "       -9.68212808e-02, -2.99426672e-01, -1.79310425e-01, -3.57118881e-02,\n",
       "       -9.14064221e-02, -1.53609999e-01, -1.15071403e+00, -5.82695958e-01,\n",
       "       -2.00500729e-01, -2.42713908e-01, -1.26103189e-01, -1.13811763e-01,\n",
       "       -3.20367227e-01, -6.34765679e-02, -3.62890941e-01, -2.51308490e-01,\n",
       "       -2.25892483e-01, -2.14970761e-01,  2.49269663e-01, -1.17952761e-01,\n",
       "       -4.78752756e-01, -1.05362665e+00, -3.20971538e-02, -2.35664821e-01,\n",
       "       -1.79380412e-01,  1.43248756e-01,  1.36356096e-01, -3.50407673e-01,\n",
       "       -2.59568336e-01, -1.69481568e-01, -6.23144513e-01, -2.44383663e-01,\n",
       "       -2.84920451e-01, -2.70815657e-01, -2.53048025e-01, -4.27586139e-01,\n",
       "       -2.55237339e-01, -4.00567343e-01, -5.28859124e-02, -2.00256756e-01,\n",
       "       -2.85622232e-01, -4.18355897e-01, -1.59083428e-01, -1.04441557e-01,\n",
       "       -1.25028610e-01, -8.12426905e-02, -2.25891281e-01, -2.35609328e-01,\n",
       "       -1.58316049e-01, -2.23367159e-01, -4.77707982e-01, -1.34119269e-01,\n",
       "       -2.47339339e-01, -2.14168101e-01, -1.79971308e-01,  2.83838290e-02,\n",
       "       -1.35818002e-01, -2.06247199e-01, -1.94569832e-01, -1.19261819e-01,\n",
       "       -2.58864326e-01, -6.98484356e-02, -4.47681077e-01, -2.48546101e-01,\n",
       "       -4.94338547e-01, -2.69712466e-01, -1.73019567e-01, -4.14424999e-01,\n",
       "       -1.41323868e-01, -2.84849150e-01, -1.91627260e-01, -1.69133275e-01,\n",
       "       -6.33910165e-01, -7.37244776e-01, -9.62664385e-02, -1.91370691e-01,\n",
       "       -5.66310670e-01, -2.18899248e-01, -1.73148490e-01, -2.45341863e-01,\n",
       "       -4.21238360e-01, -1.60100177e-01, -1.71049912e+00, -3.08319957e-02,\n",
       "       -1.94839410e-01, -3.03646746e-01,  3.67085298e-01, -1.89736901e-01,\n",
       "       -4.56766145e+00, -1.81380817e-01, -2.26830344e-01, -1.02848470e-01,\n",
       "       -1.89678809e-01, -1.30585388e-01, -1.50097253e-01, -2.59323293e-01,\n",
       "        1.81149281e-02, -5.86702629e-01, -2.16860988e-01, -2.63749332e-01,\n",
       "       -2.23567590e-01,  7.54636125e-02, -1.96767800e-01, -1.89282828e-01,\n",
       "       -1.87615919e-01, -2.40769382e-01, -2.32177573e-01, -2.42896712e-01,\n",
       "       -2.88539673e-01, -3.19820473e-01, -2.30754293e-01, -1.57941199e-01,\n",
       "       -3.49479762e-01, -1.50302297e-01, -5.45184582e-01, -2.01867240e-01,\n",
       "       -5.82816818e-01, -2.92316146e-01, -2.05060904e-01,  4.92454749e-01,\n",
       "       -9.25747338e-02, -1.89290596e-01, -1.13493225e-01, -3.39261780e-01,\n",
       "       -2.05622138e-01, -8.45368780e-02, -2.04462982e-01, -3.70075547e-01,\n",
       "       -1.44130063e-01, -7.77342210e-01, -3.31065818e-01, -3.82533908e-01,\n",
       "       -8.50575573e-02, -4.16567797e-01, -5.51015345e-01, -1.48495122e+00,\n",
       "       -4.76085381e-01, -2.64930390e-01, -1.61383021e-01, -2.23757806e-01,\n",
       "        1.03759024e+00, -1.75873423e-01, -1.43501019e+00, -1.64520534e-01,\n",
       "        2.55909318e-02, -2.71662173e-01, -7.92607173e-01, -1.60767270e-01,\n",
       "       -2.26092633e-01, -9.31703579e-01,  2.34535867e-01, -2.11516663e-01,\n",
       "       -2.58138287e-01, -2.79567093e-01, -1.79604719e-01, -2.10764786e-01,\n",
       "       -1.97247643e-01, -2.58469717e-01, -2.24742731e-01, -1.54121733e-01,\n",
       "       -3.53251191e-01, -1.05526059e-01, -1.37001569e-01, -3.97809921e-01,\n",
       "       -2.80556838e-01, -2.25393087e-01, -4.13162024e-02, -1.61969599e-01,\n",
       "       -2.92687116e-01,  6.61997575e-03, -1.88658288e-01,  8.29823361e-04,\n",
       "       -2.83545096e-01, -1.61054861e-01, -2.72436066e-01, -1.58972559e-01,\n",
       "        3.56114148e-01, -4.11662368e-01, -2.62989715e-01, -1.69842407e-01,\n",
       "       -5.15510011e-02, -1.16938748e-01, -2.23140930e-01,  1.06239231e-02,\n",
       "       -1.40731424e-01, -2.22557529e-01, -2.72152998e-01, -1.55796463e-01,\n",
       "       -1.32859948e-01, -2.24659243e-01, -4.08926609e-02, -3.11908780e-01,\n",
       "       -2.88556546e-01, -6.55058845e-01, -3.82052909e-01, -7.36766854e-01,\n",
       "       -1.40112269e-01, -1.18984582e-01,  4.40470673e-02, -2.02529295e-01,\n",
       "       -6.70489042e-02, -2.99327510e-01, -2.28778367e-01, -6.81378634e-01,\n",
       "       -5.28972975e-01, -3.67441009e-01, -3.28699035e-01,  1.38100331e+00,\n",
       "       -2.15275565e-01, -1.52697377e-01, -2.26209703e-01, -2.45290882e-01,\n",
       "       -2.90434228e-01, -2.38487668e-01, -3.81617282e-01, -2.39211007e-01,\n",
       "       -2.43559061e-01, -2.73400888e-01, -2.09593901e-01, -1.84744467e-01,\n",
       "       -2.50467965e-01, -2.15468349e-01, -8.62207159e-03, -3.06957808e-01,\n",
       "       -1.35272137e-01, -4.11742004e-01, -1.42893512e-01, -2.06514444e-01,\n",
       "        3.71589896e-01, -6.17853024e-02, -1.58219971e-01, -9.42778766e-01,\n",
       "       -2.32666948e-01, -2.80778214e-01, -9.34463728e-01, -3.85967118e-01,\n",
       "       -3.45842133e-01, -1.44987717e-01, -1.01692307e-01, -1.36981417e-01,\n",
       "       -1.00753883e-01, -2.24308333e-01, -1.35448673e-01, -2.64359267e-01,\n",
       "       -6.24633115e-01,  2.28004207e-01, -2.79990028e-01, -2.86164744e-01,\n",
       "       -1.63815058e-01, -1.36959795e-01, -1.45352890e-01, -1.61582367e-01,\n",
       "       -3.24429167e-01, -2.25783833e-01, -1.78524044e-01, -7.62525978e-01,\n",
       "        3.95556725e-02, -1.46127720e-01, -2.73674146e-01, -1.29658044e-01,\n",
       "       -1.62270518e-01,  1.89042837e-01, -2.76009028e-01, -4.24658385e-01,\n",
       "        1.02326625e+00, -2.40946063e-01, -6.78830262e-02, -2.30675308e-01,\n",
       "       -2.63380585e-01, -3.22361568e-01, -5.75596245e-02, -2.00337631e-01,\n",
       "       -8.45302748e-02, -2.37695177e-01, -3.21797508e-01, -4.17031223e-01,\n",
       "       -1.19604255e-01, -2.92892734e-01, -1.64927978e-01, -2.43956733e-01,\n",
       "       -3.23168192e-01, -1.81187673e-01, -3.29973548e-01, -2.78125868e+00,\n",
       "       -1.97689332e-01, -1.99197125e-01, -2.93141258e-01, -2.75376394e-01,\n",
       "       -1.49722870e-01, -2.87778308e-01, -2.44512718e-01, -2.58883341e-01,\n",
       "       -1.56027089e-01,  1.63574142e+00, -7.31678386e-02, -5.19495979e-01,\n",
       "       -1.81208085e-01, -3.24476121e-01, -4.92776613e-01, -3.69143289e-01,\n",
       "       -1.50467541e-01, -2.18510049e-01, -1.62998852e-01, -3.06351925e-01,\n",
       "       -4.89835708e-01, -3.95547516e-02, -1.28798333e-01, -1.66525211e+00,\n",
       "       -5.86422669e-02, -1.39476162e-01, -2.56572588e-01, -3.03147249e-01,\n",
       "       -1.89724423e-01, -2.46130265e-01, -7.56502921e-01, -5.19100533e-01,\n",
       "       -2.23120679e-01, -2.79736586e-01, -5.51395671e-01, -2.29116090e-01,\n",
       "       -1.65172034e-01, -2.27454397e-01, -1.04440467e+00, -2.08029895e-01,\n",
       "       -1.68506814e-01, -1.16263582e-01, -2.21015085e-01, -7.08645562e-01,\n",
       "       -1.01731928e+00, -1.89912473e-01, -2.49359670e-01, -1.03963683e+00,\n",
       "       -8.52167912e-02, -7.00887591e-01, -2.10262046e-01, -3.53053386e-01,\n",
       "       -3.39816019e-01, -2.77850819e-01, -1.80717172e-01, -3.75320722e-01,\n",
       "       -2.24607968e-01, -3.24241639e-01, -1.83759587e-01, -1.49170132e-01,\n",
       "       -1.47162280e-01,  2.49452684e-03, -1.78910120e-01, -2.30294665e-01,\n",
       "       -1.35181752e-01, -1.72647204e-01, -2.09894638e-01, -2.56115420e-01])"
      ]
     },
     "execution_count": 174,
     "metadata": {},
     "output_type": "execute_result"
    }
   ],
   "source": [
    "data[2,0]-data[31,1]"
   ]
  },
  {
   "cell_type": "code",
   "execution_count": 175,
   "metadata": {},
   "outputs": [
    {
     "data": {
      "image/png": "[encoded data removed]",
      "text/plain": [
       "<matplotlib.figure.Figure at 0x7f07362084e0>"
      ]
     },
     "metadata": {},
     "output_type": "display_data"
    }
   ],
   "source": [
    "plt.plot([np.mean(data[i,1]) for i in range(32)])\n",
    "plt.show()"
   ]
  },
  {
   "cell_type": "code",
   "execution_count": 176,
   "metadata": {},
   "outputs": [
    {
     "data": {
      "image/png": "[encoded data removed]",
      "text/plain": [
       "<matplotlib.figure.Figure at 0x7f0736208da0>"
      ]
     },
     "metadata": {},
     "output_type": "display_data"
    }
   ],
   "source": [
    "plt.plot([np.mean(data[i,0]) for i in range(32)])\n",
    "plt.show()"
   ]
  },
  {
   "cell_type": "code",
   "execution_count": 157,
   "metadata": {},
   "outputs": [
    {
     "data": {
      "image/png": "[encoded data removed]",
      "text/plain": [
       "<matplotlib.figure.Figure at 0x7f07360c5080>"
      ]
     },
     "metadata": {},
     "output_type": "display_data"
    }
   ],
   "source": [
    "plt.rc(\"text\", usetex=True)\n",
    "my_font_size = 15\n",
    "#PyPlot.rc(\"font\", family=\"serif\")\n",
    "\n",
    "plt.rc(\"text.latex\", unicode=True)\n",
    "fig = plt.figure()\n",
    "fig.set_size_inches(10, 10)\n",
    "\n",
    "\n",
    "\n",
    "plt.subplot(2,2,1)\n",
    "plt.hist(data[0,0], bins='auto')  \n",
    "plt.tick_params(labelsize = my_font_size)\n",
    "plt.xlabel(r'$l_2(\\textrm{nnDCP}-\\textrm{nnDCP}^{0,x})$', fontsize=my_font_size)\n",
    "\n",
    "plt.subplot(2,2,2)\n",
    "plt.hist(data[0,1], bins='auto')  \n",
    "plt.tick_params(labelsize = my_font_size)\n",
    "plt.xlabel(r'$l_2(\\textrm{nnDCP}-\\textrm{nnDCP}^{0,z})$', fontsize=my_font_size)\n",
    "\n",
    "plt.subplot(2,2,3)\n",
    "plt.hist(data[31,0], bins='auto')  \n",
    "plt.tick_params(labelsize = my_font_size)\n",
    "plt.xlabel(r'$l_2(\\textrm{nnDCP}-\\textrm{nnDCP}^{31,x})$', fontsize=my_font_size)\n",
    "\n",
    "plt.subplot(2,2,4)\n",
    "plt.hist(data[31,1], bins='auto')  \n",
    "plt.tick_params(labelsize = my_font_size)\n",
    "plt.xlabel(r'$l_2(\\textrm{nnDCP}-\\textrm{nnDCP}^{31,z})$', fontsize=my_font_size)\n",
    "# plt.savefig(\"../txt/LSTM_approx/histograms_{}_eps_e-{}.pdf\".format(noise_name,eps_order))\n",
    "plt.show()"
   ]
  },
  {
   "cell_type": "code",
   "execution_count": 177,
   "metadata": {},
   "outputs": [],
   "source": [
    "kruskal = np.zeros((64,64))\n",
    "for i,j in prod(range(n_ts),range(n_ts)):\n",
    "    for k,l in prod([0,1],[0,1]):\n",
    "        kruskal[i+k*32,j+l*32] = stats.kruskal(data[i,k],data[j,l])[1]"
   ]
  },
  {
   "cell_type": "code",
   "execution_count": 178,
   "metadata": {},
   "outputs": [
    {
     "data": {
      "image/png": "[encoded data removed]",
      "text/plain": [
       "<matplotlib.figure.Figure at 0x7f073e87d198>"
      ]
     },
     "metadata": {},
     "output_type": "display_data"
    }
   ],
   "source": [
    "plt.rc(\"text\", usetex=True)\n",
    "my_font_size =10\n",
    "#PyPlot.rc(\"font\", family=\"serif\")\n",
    "\n",
    "my_cmap = plt.cm.Greys\n",
    "\n",
    "plt.rc(\"text.latex\", unicode=True)\n",
    "fig = plt.figure(dpi=150)\n",
    "fig.set_size_inches(3 ,3)\n",
    "plt.subplot(2,2,1)\n",
    "plt.imshow(kruskal[:32,:32], interpolation='nearest', cmap=my_cmap, vmin=0, vmax=1)\n",
    "plt.ylabel(r'$ \\textrm{nnDCP}^{i,x}$', fontsize=my_font_size)\n",
    "plt.tick_params(labelsize = my_font_size)\n",
    "plt.xticks([])\n",
    "plt.yticks([0,10,20,30])\n",
    "plt.subplot(2,2,2)\n",
    "plt.imshow(kruskal[:32,32:], interpolation='nearest', cmap=my_cmap, vmin=0, vmax=1)\n",
    "plt.xticks([])\n",
    "plt.yticks([])\n",
    "plt.subplot(2,2,3)\n",
    "plt.imshow(kruskal[32:,:32], interpolation='nearest', cmap=my_cmap, vmin=0, vmax=1)\n",
    "plt.ylabel(r'$ \\textrm{nnDCP}^{i,z}$', fontsize=my_font_size)\n",
    "plt.xlabel(r'$ \\textrm{nnDCP}^{i,x}$', fontsize=my_font_size)\n",
    "plt.tick_params(labelsize = my_font_size)\n",
    "plt.yticks([0,10,20,30])\n",
    "plt.xticks([0,10,20,30])\n",
    "plt.subplot(2,2,4)\n",
    "plt.imshow(kruskal[32:,32:], interpolation='nearest', cmap=my_cmap, vmin=0, vmax=1)\n",
    "plt.subplots_adjust(hspace=0.1)\n",
    "plt.subplots_adjust(wspace=-0.1)\n",
    "plt.xlabel(r'$\\textrm{nnDCP}^{i,z}$', fontsize=my_font_size)\n",
    "plt.tick_params(labelsize = my_font_size)\n",
    "plt.yticks([])\n",
    "plt.xticks([0,10,20,30])\n",
    "plt.subplots_adjust(bottom=0.2, right=0.8, top=0.8)\n",
    "cax = plt.axes([0.8, 0.2, 0.075, 0.6])\n",
    "plt.tick_params(labelsize = my_font_size)\n",
    "c = plt.colorbar(cax=cax)\n",
    "# c.set_label(r'$p$--\\textrm{value}', fontsize=my_font_size,rotation=270)\n",
    "\n",
    "# plt.savefig(\"../txt/LSTM_approx/kruskal_mtx_plot_{}_eps_e-{}.pdf\".format(noise_name,eps_order))\n",
    "plt.show()"
   ]
  },
  {
   "cell_type": "code",
   "execution_count": null,
   "metadata": {
    "collapsed": true
   },
   "outputs": [],
   "source": []
  }
 ],
 "metadata": {
  "kernelspec": {
   "display_name": "Python 3",
   "language": "python",
   "name": "python3"
  },
  "language_info": {
   "codemirror_mode": {
    "name": "ipython",
    "version": 3
   },
   "file_extension": ".py",
   "mimetype": "text/x-python",
   "name": "python",
   "nbconvert_exporter": "python",
   "pygments_lexer": "ipython3",
   "version": "3.5.3"
  }
 },
 "nbformat": 4,
 "nbformat_minor": 2
}
