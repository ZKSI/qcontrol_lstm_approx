{
 "cells": [
  {
   "cell_type": "code",
   "execution_count": 2,
   "metadata": {},
   "outputs": [
    {
     "name": "stderr",
     "output_type": "stream",
     "text": [
      "[autoreload of tensorflow.python.platform failed: Traceback (most recent call last):\n",
      "  File \"/home/mateusz/Programy/anaconda3/lib/python3.5/site-packages/IPython/extensions/autoreload.py\", line 246, in check\n",
      "    superreload(m, reload, self.old_objects)\n",
      "  File \"/home/mateusz/Programy/anaconda3/lib/python3.5/site-packages/IPython/extensions/autoreload.py\", line 369, in superreload\n",
      "    module = reload(module)\n",
      "  File \"/home/mateusz/Programy/anaconda3/lib/python3.5/imp.py\", line 314, in reload\n",
      "    return importlib.reload(module)\n",
      "  File \"/home/mateusz/Programy/anaconda3/lib/python3.5/importlib/__init__.py\", line 159, in reload\n",
      "    name=parent_name) from None\n",
      "ImportError: parent 'tensorflow.python' not in sys.modules\n",
      "]\n"
     ]
    },
    {
     "name": "stdout",
     "output_type": "stream",
     "text": [
      "The autoreload extension is already loaded. To reload it, use:\n",
      "  %reload_ext autoreload\n"
     ]
    },
    {
     "name": "stderr",
     "output_type": "stream",
     "text": [
      "/home/mateusz/Programy/anaconda3/lib/python3.5/site-packages/h5py/__init__.py:34: FutureWarning: Conversion of the second argument of issubdtype from `float` to `np.floating` is deprecated. In future, it will be treated as `np.float64 == np.dtype(float).type`.\n",
      "  from ._conv import register_converters as _register_converters\n"
     ]
    }
   ],
   "source": [
    "import numpy as np\n",
    "import matplotlib.pyplot as plt\n",
    "import scipy.linalg\n",
    "from scipy import stats\n",
    "from itertools import product as prod\n",
    "%load_ext autoreload\n",
    "%autoreload 2\n",
    "\n",
    "from constants_of_experiments import *\n",
    "from noise_models_and_integration import *"
   ]
  },
  {
   "cell_type": "code",
   "execution_count": 14,
   "metadata": {},
   "outputs": [
    {
     "name": "stdout",
     "output_type": "stream",
     "text": [
      "0.8\n",
      "0.2\n",
      "aSxbSy_id_spinChain_dim_2x1\n",
      "0.98684746\n",
      "0.979354\n",
      "0.9831008\n"
     ]
    }
   ],
   "source": [
    "for gamma in [0.8]:\n",
    "    for alpha in [0.2]:\n",
    "        beta = 0.6\n",
    "        print(gamma)\n",
    "        print(alpha)\n",
    "        print(noise_name)\n",
    "#         data = np.load(\"results/eff_fid_lstm/dim_{}/statistic_{}_gam_{}_alpha_{}.npz\".format(model_dim,\n",
    "#                                                                                              noise_name,\n",
    "#                                                                                              gamma,\n",
    "#                                                                                              alpha))['arr_0']\n",
    "#         data = np.load(\"results/eff_fid_lstm/dim_{}/PLG_tr6k_ts4k/statistic_{}_gam_{}_alpha_{}.npz\".format(model_dim,\n",
    "#                                                                                              noise_name,\n",
    "#                                                                                              gamma,\n",
    "#                                                                                              alpha))['arr_0']\n",
    "        data = np.load(\n",
    "            \"results/eff_fid_lstm/dim_{}/PLG_tr6k_ts4k/statistic_spinChainDrift_spinChain_dim_2x1_gam_{}_alpha_{}_beta_{}.npz\".format(model_dim,\n",
    "                                                                                             gamma,\n",
    "                                                                                             alpha,\n",
    "                                                                                             beta))['arr_0']\n",
    "    \n",
    "        data = data[()]\n",
    "        a = []\n",
    "#         print(data)\n",
    "        for i in range(len(data)):\n",
    "            print(list(data[i])[0])\n",
    "            a.append(list(data[i])[0])\n",
    "        print(np.mean(a))"
   ]
  },
  {
   "cell_type": "code",
   "execution_count": null,
   "metadata": {
    "collapsed": true
   },
   "outputs": [],
   "source": [
    "dane = np.load(\"results/NN_as_approx/dim_{}/{}_gam_{}_alpha_{}_epsilon_1e-{}.npz\".format(model_dim,\n",
    "                                                                                        noise_name,\n",
    "                                                                                        gamma,\n",
    "                                                                                        alpha,\n",
    "                                                                                        eps_order))[\"arr_0\"]\n",
    "np.shape(dane)"
   ]
  },
  {
   "cell_type": "code",
   "execution_count": null,
   "metadata": {
    "collapsed": true
   },
   "outputs": [],
   "source": [
    "def sieve_data(data):   \n",
    "    tmpdata = []\n",
    "    for i in range(np.shape(data)[2]):\n",
    "        if not((data[:,:,i] <0).any()) and (data[:,:,i] >0).any():\n",
    "            tmpdata.append(data[:,:,i])\n",
    "\n",
    "    print(len(tmpdata))\n",
    "    data = np.zeros((np.shape(data)[0],np.shape(data)[1],len(tmpdata)))\n",
    "    for i in range(len(tmpdata)):\n",
    "        data[:,:,i] = tmpdata[i]\n",
    "    return data\n",
    "\n",
    "data = sieve_data(dane)"
   ]
  },
  {
   "cell_type": "code",
   "execution_count": null,
   "metadata": {
    "collapsed": true
   },
   "outputs": [],
   "source": [
    "plt.rc(\"text\", usetex=True)\n",
    "my_font_size = 15\n",
    "#PyPlot.rc(\"font\", family=\"serif\")\n",
    "\n",
    "plt.rc(\"text.latex\", unicode=True)\n",
    "fig = plt.figure()\n",
    "fig.set_size_inches(10, 10)\n",
    "\n",
    "\n",
    "\n",
    "plt.subplot(2,2,1)\n",
    "plt.hist(data[0,0], bins='auto')  \n",
    "plt.tick_params(labelsize = my_font_size)\n",
    "plt.xlabel(r'$l_2(\\textrm{nnDCP}-\\textrm{nnDCP}^{0,x})$', fontsize=my_font_size)\n",
    "\n",
    "plt.subplot(2,2,2)\n",
    "plt.hist(data[0,1], bins='auto')  \n",
    "plt.tick_params(labelsize = my_font_size)\n",
    "plt.xlabel(r'$l_2(\\textrm{nnDCP}-\\textrm{nnDCP}^{0,z})$', fontsize=my_font_size)\n",
    "\n",
    "plt.subplot(2,2,3)\n",
    "plt.hist(data[31,0], bins='auto')  \n",
    "plt.tick_params(labelsize = my_font_size)\n",
    "plt.xlabel(r'$l_2(\\textrm{nnDCP}-\\textrm{nnDCP}^{31,x})$', fontsize=my_font_size)\n",
    "\n",
    "plt.subplot(2,2,4)\n",
    "plt.hist(data[31,1], bins='auto')  \n",
    "plt.tick_params(labelsize = my_font_size)\n",
    "plt.xlabel(r'$l_2(\\textrm{nnDCP}-\\textrm{nnDCP}^{31,z})$', fontsize=my_font_size)\n",
    "# plt.savefig(\"../txt/LSTM_approx/histograms_{}_eps_e-{}.pdf\".format(noise_name,eps_order))\n",
    "plt.show()"
   ]
  },
  {
   "cell_type": "code",
   "execution_count": null,
   "metadata": {
    "collapsed": true
   },
   "outputs": [],
   "source": [
    "kruskal = np.zeros((64,64))\n",
    "for i,j in prod(range(n_ts),range(n_ts)):\n",
    "    for k,l in prod([0,1],[0,1]):\n",
    "        kruskal[i+k*32,j+l*32] = stats.kruskal(data[i,k],data[j,l])[1]"
   ]
  },
  {
   "cell_type": "code",
   "execution_count": null,
   "metadata": {
    "collapsed": true
   },
   "outputs": [],
   "source": [
    "plt.rc(\"text\", usetex=True)\n",
    "my_font_size =10\n",
    "#PyPlot.rc(\"font\", family=\"serif\")\n",
    "\n",
    "my_cmap = plt.cm.Greys\n",
    "\n",
    "plt.rc(\"text.latex\", unicode=True)\n",
    "fig = plt.figure(dpi=150)\n",
    "fig.set_size_inches(3 ,3)\n",
    "plt.subplot(2,2,1)\n",
    "plt.imshow(kruskal[:32,:32], interpolation='nearest', cmap=my_cmap, vmin=0, vmax=1)\n",
    "plt.ylabel(r'$ \\textrm{nnDCP}^{i,x}$', fontsize=my_font_size)\n",
    "plt.tick_params(labelsize = my_font_size)\n",
    "plt.xticks([])\n",
    "plt.yticks([0,10,20,30])\n",
    "plt.subplot(2,2,2)\n",
    "plt.imshow(kruskal[:32,32:], interpolation='nearest', cmap=my_cmap, vmin=0, vmax=1)\n",
    "plt.xticks([])\n",
    "plt.yticks([])\n",
    "plt.subplot(2,2,3)\n",
    "plt.imshow(kruskal[32:,:32], interpolation='nearest', cmap=my_cmap, vmin=0, vmax=1)\n",
    "plt.ylabel(r'$ \\textrm{nnDCP}^{i,z}$', fontsize=my_font_size)\n",
    "plt.xlabel(r'$ \\textrm{nnDCP}^{i,x}$', fontsize=my_font_size)\n",
    "plt.tick_params(labelsize = my_font_size)\n",
    "plt.yticks([0,10,20,30])\n",
    "plt.xticks([0,10,20,30])\n",
    "plt.subplot(2,2,4)\n",
    "plt.imshow(kruskal[32:,32:], interpolation='nearest', cmap=my_cmap, vmin=0, vmax=1)\n",
    "plt.subplots_adjust(hspace=0.1)\n",
    "plt.subplots_adjust(wspace=-0.1)\n",
    "plt.xlabel(r'$\\textrm{nnDCP}^{i,z}$', fontsize=my_font_size)\n",
    "plt.tick_params(labelsize = my_font_size)\n",
    "plt.yticks([])\n",
    "plt.xticks([0,10,20,30])\n",
    "plt.subplots_adjust(bottom=0.2, right=0.8, top=0.8)\n",
    "cax = plt.axes([0.8, 0.2, 0.075, 0.6])\n",
    "plt.tick_params(labelsize = my_font_size)\n",
    "c = plt.colorbar(cax=cax)\n",
    "# c.set_label(r'$p$--\\textrm{value}', fontsize=my_font_size,rotation=270)\n",
    "\n",
    "# plt.savefig(\"../txt/LSTM_approx/kruskal_mtx_plot_{}_eps_e-{}.pdf\".format(noise_name,eps_order))\n",
    "plt.show()"
   ]
  },
  {
   "cell_type": "code",
   "execution_count": null,
   "metadata": {
    "collapsed": true
   },
   "outputs": [],
   "source": []
  }
 ],
 "metadata": {
  "kernelspec": {
   "display_name": "Python 3",
   "language": "python",
   "name": "python3"
  },
  "language_info": {
   "codemirror_mode": {
    "name": "ipython",
    "version": 3
   },
   "file_extension": ".py",
   "mimetype": "text/x-python",
   "name": "python",
   "nbconvert_exporter": "python",
   "pygments_lexer": "ipython3",
   "version": "3.5.3"
  }
 },
 "nbformat": 4,
 "nbformat_minor": 2
}
