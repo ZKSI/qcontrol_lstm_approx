{
 "cells": [
  {
   "cell_type": "code",
   "execution_count": 77,
   "metadata": {},
   "outputs": [
    {
     "name": "stdout",
     "output_type": "stream",
     "text": [
      "The autoreload extension is already loaded. To reload it, use:\n",
      "  %reload_ext autoreload\n"
     ]
    }
   ],
   "source": [
    "import numpy as np\n",
    "import matplotlib.pyplot as plt\n",
    "import scipy.linalg\n",
    "from scipy import stats\n",
    "from itertools import product as prod\n",
    "%load_ext autoreload\n",
    "%autoreload 2\n",
    "\n",
    "from constants_of_experiments import *\n",
    "from noise_models_and_integration import *"
   ]
  },
  {
   "cell_type": "code",
   "execution_count": 68,
   "metadata": {},
   "outputs": [],
   "source": [
    "dictionary = np.load(\"results/eff_fid_lstm/dim_2x1/PLG_50_100tys/statistic_aSxbSy_id_spinChain_dim_2x1.npz\")[\"arr_0\"][()]\n",
    "dictionary['gamma0.8_alpha0.0'] = dictionary['gamma0.8_alpha0.']\n",
    "dictionary['gamma0.6_alpha0.0'] = dictionary['gamma0.6_alpha0.']\n",
    "del dictionary['gamma0.8_alpha0.']\n",
    "del dictionary['gamma0.6_alpha0.']"
   ]
  },
  {
   "cell_type": "code",
   "execution_count": 69,
   "metadata": {},
   "outputs": [
    {
     "name": "stdout",
     "output_type": "stream",
     "text": [
      "{'gamma0.8_alpha0.0': [0.96, 0.97, 0.96], 'gamma0.6_alpha0.0': [0.94, 0.96, 0.94], 'gamma0.6_alpha0.2': [0.98, 0.98, 0.96], 'gamma0.8_alpha0.5': [0.9, 0.99, 0.99], 'gamma0.6_alpha0.5': [0.99, 0.99, 0.99], 'gamma0.6_alpha0.8': [0.99, 0.98, 0.98], 'gamma0.8_alpha0.8': [0.99, 0.99, 0.99], 'gamma0.8_alpha0.2': [0.98, 0.98, 0.98]}\n",
      "gamma  0.6\n",
      "alpha  0.0\n",
      "0.9619728\n",
      "gamma  0.6\n",
      "alpha  0.2\n",
      "0.96604335\n",
      "gamma  0.6\n",
      "alpha  0.5\n",
      "0.9885367\n",
      "gamma  0.6\n",
      "alpha  0.8\n",
      "0.9888214\n",
      "gamma  0.8\n",
      "alpha  0.0\n",
      "0.9717829\n",
      "gamma  0.8\n",
      "alpha  0.2\n",
      "0.97772264\n",
      "gamma  0.8\n",
      "alpha  0.5\n",
      "0.99072057\n",
      "gamma  0.8\n",
      "alpha  0.8\n",
      "0.9915163\n"
     ]
    }
   ],
   "source": [
    "\n",
    "print(dictionary)\n",
    "iterat = 0\n",
    "for gamma in [0.6,0.8]:\n",
    "    for alpha in [0.,0.2,0.5,0.8]:\n",
    "        print(\"gamma \",gamma)\n",
    "        print(\"alpha \", alpha)\n",
    "        data0 = np.load(\"results/eff_fid_lstm/dim_{}/PLG_50_100tys/statistic_{}_gam_{}_alpha_{}_{}.npz\".format(model_dim,\n",
    "                                                                                           noise_name,\n",
    "                                                                                           gamma,\n",
    "                                                                                           alpha, int(iterat)))[\"arr_0\"][()]\n",
    "        data100 = np.load(\"results/eff_fid_lstm/dim_{}/PLG_50_100tys/statistic_{}_gam_{}_alpha_{}_{}.npz\".format(model_dim,\n",
    "                                                                                           noise_name,\n",
    "                                                                                           gamma,\n",
    "                                                                                           alpha, int(iterat+100)))[\"arr_0\"][()]\n",
    "        data200 = np.load(\"results/eff_fid_lstm/dim_{}/PLG_50_100tys/statistic_{}_gam_{}_alpha_{}_{}.npz\".format(model_dim,\n",
    "                                                                                           noise_name,\n",
    "                                                                                           gamma,\n",
    "                                                                                           alpha, iterat+200))[\"arr_0\"][()]\n",
    "        dictionary[\"gamma{}_alpha{}\".format(gamma,alpha)].append(data0[0][0])\n",
    "        dictionary[\"gamma{}_alpha{}\".format(gamma,alpha)].append(data100[0][0])\n",
    "        dictionary[\"gamma{}_alpha{}\".format(gamma,alpha)].append(data200[0][0])\n",
    "        \n",
    "        iterat+=1\n",
    "        print(data0[0][0])"
   ]
  },
  {
   "cell_type": "code",
   "execution_count": 75,
   "metadata": {},
   "outputs": [
    {
     "name": "stdout",
     "output_type": "stream",
     "text": [
      "gamma  0.6\n",
      "alpha  0.0\n",
      "0.9509780351320902\n",
      "gamma  0.6\n",
      "alpha  0.2\n",
      "0.9734388065338134\n",
      "gamma  0.6\n",
      "alpha  0.5\n",
      "0.9892206839720408\n",
      "gamma  0.6\n",
      "alpha  0.8\n",
      "0.9865614394346873\n",
      "gamma  0.8\n",
      "alpha  0.0\n",
      "0.9693977161248525\n",
      "gamma  0.8\n",
      "alpha  0.2\n",
      "0.9709230665365854\n",
      "gamma  0.8\n",
      "alpha  0.5\n",
      "0.9752432413895925\n",
      "gamma  0.8\n",
      "alpha  0.8\n",
      "0.9909477384885151\n"
     ]
    }
   ],
   "source": [
    "for gamma in [0.6,0.8]:\n",
    "    for alpha in [0.,0.2,0.5,0.8]:\n",
    "        print(\"gamma \",gamma)\n",
    "        print(\"alpha \", alpha)\n",
    "        print(np.mean(dictionary[\"gamma{}_alpha{}\".format(gamma,alpha)]))"
   ]
  },
  {
   "cell_type": "code",
   "execution_count": 44,
   "metadata": {},
   "outputs": [
    {
     "name": "stdout",
     "output_type": "stream",
     "text": [
      "0.6\n",
      "0.0\n",
      "1.0\n",
      "aSxbSy_id_spinChain_dim_2x1\n",
      "0.97886056\n",
      "0.6\n",
      "0.1\n",
      "0.8\n",
      "aSxbSy_id_spinChain_dim_2x1\n",
      "0.97887844\n",
      "0.6\n",
      "0.1\n",
      "0.6\n",
      "aSxbSy_id_spinChain_dim_2x1\n",
      "0.9812311\n",
      "0.6\n",
      "0.2\n",
      "0.6\n",
      "aSxbSy_id_spinChain_dim_2x1\n",
      "0.9557622\n",
      "0.6\n",
      "0.3\n",
      "0.6\n",
      "aSxbSy_id_spinChain_dim_2x1\n",
      "0.97750616\n",
      "0.8\n",
      "0.0\n",
      "1.0\n",
      "aSxbSy_id_spinChain_dim_2x1\n",
      "0.90486413\n",
      "0.8\n",
      "0.1\n",
      "0.8\n",
      "aSxbSy_id_spinChain_dim_2x1\n",
      "0.9841345\n",
      "0.8\n",
      "0.1\n",
      "0.6\n",
      "aSxbSy_id_spinChain_dim_2x1\n",
      "0.97732115\n",
      "0.8\n",
      "0.2\n",
      "0.6\n",
      "aSxbSy_id_spinChain_dim_2x1\n",
      "0.97354627\n",
      "0.8\n",
      "0.3\n",
      "0.6\n",
      "aSxbSy_id_spinChain_dim_2x1\n",
      "0.97896427\n"
     ]
    }
   ],
   "source": [
    "params_list = [(0.6,0.,1.),(0.6,0.1,0.8),(0.6,0.1,0.6),(0.6,0.2,0.6),(0.6,0.3,0.6),\n",
    "                   (0.8,0.,1.),(0.8,0.1,0.8),(0.8,0.1,0.6),(0.8,0.2,0.6),(0.8,0.3,0.6)]\n",
    "for params in params_list:\n",
    "    gamma,alpha,beta = params\n",
    "    print(gamma)\n",
    "    print(alpha)\n",
    "    print(beta)\n",
    "    print(noise_name)\n",
    "#         data = np.load(\"results/eff_fid_lstm/dim_{}/statistic_{}_gam_{}_alpha_{}.npz\".format(model_dim,\n",
    "#                                                                                              noise_name,\n",
    "#                                                                                              gamma,\n",
    "#                                                                                              alpha))['arr_0']\n",
    "#     data = np.load(\"results/eff_fid_lstm/dim_{}/PLG_tr8k_ts4k_60tys_iter/statistic_{}_gam_{}_alpha_{}_beta_{}.npz\".format(model_dim,\n",
    "#                                                                                              noise_name,\n",
    "#                                                                                              gamma,\n",
    "#                                                                                              alpha,beta))['arr_0']\n",
    "    data = np.load(\n",
    "        \"results/eff_fid_lstm/dim_{}/PLG_final_batch_10_50tys_8k_to_4k/statistic_spinChainDrift_spinChain_dim_2x1_gam_{}_alpha_{}_beta_{}.npz\".format(model_dim,\n",
    "                                                                                         gamma,\n",
    "                                                                                         alpha,\n",
    "                                                                                         beta))['arr_0']\n",
    "    data2 = np.load(\n",
    "        \"results/eff_fid_lstm/dim_{}/PLG_final_batch_10_50tys_8k_to_4k/statistic2_spinChainDrift_spinChain_dim_2x1_gam_{}_alpha_{}_beta_{}.npz\".format(model_dim,\n",
    "                                                                                         gamma,\n",
    "                                                                                         alpha,\n",
    "                                                                                         beta))['arr_0']\n",
    "\n",
    "    data = data[()]\n",
    "    a = []\n",
    "    \n",
    "    for i in range(len(data)):\n",
    "#         print(list(data[i])[0])\n",
    "        a.append(list(data[i])[0])\n",
    "    data2 = data2[()]\n",
    "#     print(data2)\n",
    "    for i in range(len(data2)):\n",
    "#         print(list(data2[i])[0])\n",
    "        a.append(list(data2[i])[0])\n",
    "    print(np.mean(a))"
   ]
  },
  {
   "cell_type": "code",
   "execution_count": 40,
   "metadata": {},
   "outputs": [
    {
     "name": "stdout",
     "output_type": "stream",
     "text": [
      "0.6\n",
      "0.0\n",
      "aSxbSy_id_spinChain_dim_2x1\n",
      "0.929525\n",
      "0.95366395\n",
      "0.95160675\n",
      "0.93236196\n",
      "0.95506155\n",
      "0.96455604\n",
      "0.96338636\n",
      "0.9500231\n",
      "0.6\n",
      "0.2\n",
      "aSxbSy_id_spinChain_dim_2x1\n",
      "0.96862584\n",
      "0.9710865\n",
      "0.9670774\n",
      "0.96892995\n"
     ]
    }
   ],
   "source": [
    "params_list = [(0.6,0.),(0.6,0.2)]\n",
    "for params in params_list:\n",
    "    gamma,alpha = params\n",
    "    print(gamma)\n",
    "    print(alpha)\n",
    "    print(noise_name)\n",
    "    data = np.load(\"results/eff_fid_lstm/dim_{}/stretch_batch50_100tys/statistic_{}_gam_{}_alpha_{}.npz\".format(model_dim,\n",
    "                                                                                             noise_name,\n",
    "                                                                                             gamma,\n",
    "                                                                                             alpha))['arr_0']\n",
    "\n",
    "\n",
    "    data = data[()]\n",
    "    a = []\n",
    "#     print(data)\n",
    "    for i in range(len(data)):\n",
    "        print(list(data[i])[0])\n",
    "        a.append(list(data[i])[0])\n",
    "    print(np.mean,(a))"
   ]
  },
  {
   "cell_type": "code",
   "execution_count": 144,
   "metadata": {},
   "outputs": [
    {
     "name": "stdout",
     "output_type": "stream",
     "text": [
      "[[[0.05143755 0.05318616 0.05156264 ... 0.         0.         0.        ]\n",
      "  [0.07586924 0.07882859 0.08158742 ... 0.         0.         0.        ]]\n",
      "\n",
      " [[0.11742823 0.07348468 0.11182889 ... 0.         0.         0.        ]\n",
      "  [0.10964033 0.11189095 0.10474615 ... 0.         0.         0.        ]]\n",
      "\n",
      " [[0.12998766 0.12958898 0.12465886 ... 0.         0.         0.        ]\n",
      "  [0.1441958  0.1416927  0.11810137 ... 0.         0.         0.        ]]\n",
      "\n",
      " ...\n",
      "\n",
      " [[1.07442987 0.65197492 0.91937381 ... 0.         0.         0.        ]\n",
      "  [1.07406843 0.65276676 0.93585688 ... 0.         0.         0.        ]]\n",
      "\n",
      " [[1.06483591 0.65235865 0.93832099 ... 0.         0.         0.        ]\n",
      "  [1.05138171 0.65837032 0.95184469 ... 0.         0.         0.        ]]\n",
      "\n",
      " [[1.06275737 0.66418296 0.94573998 ... 0.         0.         0.        ]\n",
      "  [1.05876744 0.67630351 0.96599144 ... 0.         0.         0.        ]]]\n",
      "[[[0.06055432 0.0608122  0.05241059 ... 0.         0.         0.        ]\n",
      "  [0.08362742 0.08135545 0.07512111 ... 0.         0.         0.        ]]\n",
      "\n",
      " [[0.12071592 0.11136274 0.09912261 ... 0.         0.         0.        ]\n",
      "  [0.11933369 0.10973167 0.11923311 ... 0.         0.         0.        ]]\n",
      "\n",
      " [[0.12303046 0.11417513 0.12847714 ... 0.         0.         0.        ]\n",
      "  [0.13344222 0.13227038 0.14367825 ... 0.         0.         0.        ]]\n",
      "\n",
      " ...\n",
      "\n",
      " [[1.08939195 0.58276987 0.66827071 ... 0.         0.         0.        ]\n",
      "  [1.09322369 0.59899515 0.68409216 ... 0.         0.         0.        ]]\n",
      "\n",
      " [[1.07454443 0.60384434 0.68605214 ... 0.         0.         0.        ]\n",
      "  [1.06250596 0.62658608 0.70296788 ... 0.         0.         0.        ]]\n",
      "\n",
      " [[1.08090043 0.63510948 0.68974942 ... 0.         0.         0.        ]\n",
      "  [1.07442749 0.61454791 0.70838195 ... 0.         0.         0.        ]]]\n"
     ]
    },
    {
     "data": {
      "text/plain": [
       "(32, 2, 8000)"
      ]
     },
     "execution_count": 144,
     "metadata": {},
     "output_type": "execute_result"
    }
   ],
   "source": [
    "dane = np.load(\"results/NN_as_approx/dim_{}/stretch/{}_gam_{}_alpha_{}_epsilon_1e-{}.npz\".format(model_dim,\n",
    "                                                                                        noise_name,\n",
    "                                                                                        gamma,\n",
    "                                                                                        alpha,\n",
    "                                                                                        eps_order))[\"arr_0\"]\n",
    "dane_rev = np.load(\"results/NN_as_approx/dim_{}/stretch/{}_reversed_gam_{}_alpha_{}_epsilon_1e-{}.npz\".format(model_dim,\n",
    "                                                                                        noise_name,\n",
    "                                                                                        gamma,\n",
    "                                                                                        alpha,\n",
    "                                                                                        eps_order))[\"arr_0\"]\n",
    "print(dane)\n",
    "print(dane_rev)\n",
    "dane = np.concatenate((dane,dane_rev),axis=2)\n",
    "np.shape(dane)"
   ]
  },
  {
   "cell_type": "code",
   "execution_count": 127,
   "metadata": {},
   "outputs": [
    {
     "name": "stdout",
     "output_type": "stream",
     "text": [
      "7712\n"
     ]
    }
   ],
   "source": [
    "def sieve_data(data):   \n",
    "    tmpdata = []\n",
    "    for i in range(np.shape(data)[2]):\n",
    "        if not((data[:,:,i] <0).any()) and (data[:,:,i] >0).any():\n",
    "            tmpdata.append(data[:,:,i])\n",
    "\n",
    "    print(len(tmpdata))\n",
    "    data = np.zeros((np.shape(data)[0],np.shape(data)[1],len(tmpdata)))\n",
    "    for i in range(len(tmpdata)):\n",
    "        data[:,:,i] = tmpdata[i]\n",
    "    return data\n",
    "\n",
    "data = sieve_data(dane)"
   ]
  },
  {
   "cell_type": "code",
   "execution_count": 135,
   "metadata": {},
   "outputs": [
    {
     "data": {
      "text/plain": [
       "array([-0.92877978, -0.54671453, -0.84133258, ..., -0.6117737 ,\n",
       "       -0.77697796, -0.53115593])"
      ]
     },
     "execution_count": 135,
     "metadata": {},
     "output_type": "execute_result"
    }
   ],
   "source": [
    "data[2,0]-data[31,1]"
   ]
  },
  {
   "cell_type": "code",
   "execution_count": 141,
   "metadata": {},
   "outputs": [
    {
     "data": {
      "image/png": "[encoded data removed]",
      "text/plain": [
       "<matplotlib.figure.Figure at 0x7f0738bffef0>"
      ]
     },
     "metadata": {},
     "output_type": "display_data"
    }
   ],
   "source": [
    "plt.plot([np.mean(data[i,1]) for i in range(32)])\n",
    "plt.show()"
   ]
  },
  {
   "cell_type": "code",
   "execution_count": 142,
   "metadata": {},
   "outputs": [
    {
     "data": {
      "image/png": "[encoded data removed]",
      "text/plain": [
       "<matplotlib.figure.Figure at 0x7f0739000f28>"
      ]
     },
     "metadata": {},
     "output_type": "display_data"
    }
   ],
   "source": [
    "plt.plot([np.mean(data[i,0]) for i in range(32)])\n",
    "plt.show()"
   ]
  },
  {
   "cell_type": "code",
   "execution_count": 132,
   "metadata": {},
   "outputs": [
    {
     "data": {
      "image/png": "[encoded data removed]",
      "text/plain": [
       "<matplotlib.figure.Figure at 0x7f0738c044e0>"
      ]
     },
     "metadata": {},
     "output_type": "display_data"
    }
   ],
   "source": [
    "plt.rc(\"text\", usetex=True)\n",
    "my_font_size = 15\n",
    "#PyPlot.rc(\"font\", family=\"serif\")\n",
    "\n",
    "plt.rc(\"text.latex\", unicode=True)\n",
    "fig = plt.figure()\n",
    "fig.set_size_inches(10, 10)\n",
    "\n",
    "\n",
    "\n",
    "plt.subplot(2,2,1)\n",
    "plt.hist(data[0,0], bins='auto')  \n",
    "plt.tick_params(labelsize = my_font_size)\n",
    "plt.xlabel(r'$l_2(\\textrm{nnDCP}-\\textrm{nnDCP}^{0,x})$', fontsize=my_font_size)\n",
    "\n",
    "plt.subplot(2,2,2)\n",
    "plt.hist(data[0,1], bins='auto')  \n",
    "plt.tick_params(labelsize = my_font_size)\n",
    "plt.xlabel(r'$l_2(\\textrm{nnDCP}-\\textrm{nnDCP}^{0,z})$', fontsize=my_font_size)\n",
    "\n",
    "plt.subplot(2,2,3)\n",
    "plt.hist(data[31,0], bins='auto')  \n",
    "plt.tick_params(labelsize = my_font_size)\n",
    "plt.xlabel(r'$l_2(\\textrm{nnDCP}-\\textrm{nnDCP}^{31,x})$', fontsize=my_font_size)\n",
    "\n",
    "plt.subplot(2,2,4)\n",
    "plt.hist(data[31,1], bins='auto')  \n",
    "plt.tick_params(labelsize = my_font_size)\n",
    "plt.xlabel(r'$l_2(\\textrm{nnDCP}-\\textrm{nnDCP}^{31,z})$', fontsize=my_font_size)\n",
    "# plt.savefig(\"../txt/LSTM_approx/histograms_{}_eps_e-{}.pdf\".format(noise_name,eps_order))\n",
    "plt.show()"
   ]
  },
  {
   "cell_type": "code",
   "execution_count": 130,
   "metadata": {
    "collapsed": true
   },
   "outputs": [],
   "source": [
    "kruskal = np.zeros((64,64))\n",
    "for i,j in prod(range(n_ts),range(n_ts)):\n",
    "    for k,l in prod([0,1],[0,1]):\n",
    "        kruskal[i+k*32,j+l*32] = 10*stats.kruskal(data[i,k],data[j,l])[1]"
   ]
  },
  {
   "cell_type": "code",
   "execution_count": 131,
   "metadata": {},
   "outputs": [
    {
     "data": {
      "image/png": "[encoded data removed]",
      "text/plain": [
       "<matplotlib.figure.Figure at 0x7f0738bf2be0>"
      ]
     },
     "metadata": {},
     "output_type": "display_data"
    }
   ],
   "source": [
    "plt.rc(\"text\", usetex=True)\n",
    "my_font_size =10\n",
    "#PyPlot.rc(\"font\", family=\"serif\")\n",
    "\n",
    "my_cmap = plt.cm.Greys\n",
    "\n",
    "plt.rc(\"text.latex\", unicode=True)\n",
    "fig = plt.figure(dpi=150)\n",
    "fig.set_size_inches(3 ,3)\n",
    "plt.subplot(2,2,1)\n",
    "plt.imshow(kruskal[:32,:32], interpolation='nearest', cmap=my_cmap, vmin=0, vmax=1)\n",
    "plt.ylabel(r'$ \\textrm{nnDCP}^{i,x}$', fontsize=my_font_size)\n",
    "plt.tick_params(labelsize = my_font_size)\n",
    "plt.xticks([])\n",
    "plt.yticks([0,10,20,30])\n",
    "plt.subplot(2,2,2)\n",
    "plt.imshow(kruskal[:32,32:], interpolation='nearest', cmap=my_cmap, vmin=0, vmax=1)\n",
    "plt.xticks([])\n",
    "plt.yticks([])\n",
    "plt.subplot(2,2,3)\n",
    "plt.imshow(kruskal[32:,:32], interpolation='nearest', cmap=my_cmap, vmin=0, vmax=1)\n",
    "plt.ylabel(r'$ \\textrm{nnDCP}^{i,z}$', fontsize=my_font_size)\n",
    "plt.xlabel(r'$ \\textrm{nnDCP}^{i,x}$', fontsize=my_font_size)\n",
    "plt.tick_params(labelsize = my_font_size)\n",
    "plt.yticks([0,10,20,30])\n",
    "plt.xticks([0,10,20,30])\n",
    "plt.subplot(2,2,4)\n",
    "plt.imshow(kruskal[32:,32:], interpolation='nearest', cmap=my_cmap, vmin=0, vmax=1)\n",
    "plt.subplots_adjust(hspace=0.1)\n",
    "plt.subplots_adjust(wspace=-0.1)\n",
    "plt.xlabel(r'$\\textrm{nnDCP}^{i,z}$', fontsize=my_font_size)\n",
    "plt.tick_params(labelsize = my_font_size)\n",
    "plt.yticks([])\n",
    "plt.xticks([0,10,20,30])\n",
    "plt.subplots_adjust(bottom=0.2, right=0.8, top=0.8)\n",
    "cax = plt.axes([0.8, 0.2, 0.075, 0.6])\n",
    "plt.tick_params(labelsize = my_font_size)\n",
    "c = plt.colorbar(cax=cax)\n",
    "# c.set_label(r'$p$--\\textrm{value}', fontsize=my_font_size,rotation=270)\n",
    "\n",
    "# plt.savefig(\"../txt/LSTM_approx/kruskal_mtx_plot_{}_eps_e-{}.pdf\".format(noise_name,eps_order))\n",
    "plt.show()"
   ]
  },
  {
   "cell_type": "code",
   "execution_count": null,
   "metadata": {
    "collapsed": true
   },
   "outputs": [],
   "source": []
  }
 ],
 "metadata": {
  "kernelspec": {
   "display_name": "Python 3",
   "language": "python",
   "name": "python3"
  },
  "language_info": {
   "codemirror_mode": {
    "name": "ipython",
    "version": 3
   },
   "file_extension": ".py",
   "mimetype": "text/x-python",
   "name": "python",
   "nbconvert_exporter": "python",
   "pygments_lexer": "ipython3",
   "version": "3.5.3"
  }
 },
 "nbformat": 4,
 "nbformat_minor": 2
}
